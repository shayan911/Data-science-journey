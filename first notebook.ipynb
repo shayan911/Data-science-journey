{
    "cells": [
        {
            "cell_type": "markdown",
            "metadata": {},
            "source": "# Data Plotting\n\n#### Gold Price Historical Data\n\nThe dataset chosen contains historical data of gold prices.The data is visualized below in a pandas dataframe."
        },
        {
            "cell_type": "code",
            "execution_count": 2,
            "metadata": {},
            "outputs": [
                {
                    "data": {
                        "text/html": "<div>\n<style scoped>\n    .dataframe tbody tr th:only-of-type {\n        vertical-align: middle;\n    }\n\n    .dataframe tbody tr th {\n        vertical-align: top;\n    }\n\n    .dataframe thead th {\n        text-align: right;\n    }\n</style>\n<table border=\"1\" class=\"dataframe\">\n  <thead>\n    <tr style=\"text-align: right;\">\n      <th></th>\n      <th>Date</th>\n      <th>Open</th>\n      <th>High</th>\n      <th>Low</th>\n      <th>Close</th>\n      <th>Volume</th>\n      <th>Currency</th>\n    </tr>\n  </thead>\n  <tbody>\n    <tr>\n      <th>0</th>\n      <td>2000-01-04</td>\n      <td>281.0</td>\n      <td>281.0</td>\n      <td>281.0</td>\n      <td>282.7</td>\n      <td>4</td>\n      <td>USD</td>\n    </tr>\n    <tr>\n      <th>1</th>\n      <td>2000-01-05</td>\n      <td>283.2</td>\n      <td>283.2</td>\n      <td>283.2</td>\n      <td>281.1</td>\n      <td>16</td>\n      <td>USD</td>\n    </tr>\n    <tr>\n      <th>2</th>\n      <td>2000-01-06</td>\n      <td>281.4</td>\n      <td>281.4</td>\n      <td>281.4</td>\n      <td>281.4</td>\n      <td>0</td>\n      <td>USD</td>\n    </tr>\n    <tr>\n      <th>3</th>\n      <td>2000-01-07</td>\n      <td>281.9</td>\n      <td>281.9</td>\n      <td>281.9</td>\n      <td>281.9</td>\n      <td>0</td>\n      <td>USD</td>\n    </tr>\n    <tr>\n      <th>4</th>\n      <td>2000-01-10</td>\n      <td>281.7</td>\n      <td>281.7</td>\n      <td>281.7</td>\n      <td>281.7</td>\n      <td>0</td>\n      <td>USD</td>\n    </tr>\n  </tbody>\n</table>\n</div>",
                        "text/plain": "         Date   Open   High    Low  Close  Volume Currency\n0  2000-01-04  281.0  281.0  281.0  282.7       4      USD\n1  2000-01-05  283.2  283.2  283.2  281.1      16      USD\n2  2000-01-06  281.4  281.4  281.4  281.4       0      USD\n3  2000-01-07  281.9  281.9  281.9  281.9       0      USD\n4  2000-01-10  281.7  281.7  281.7  281.7       0      USD"
                    },
                    "execution_count": 2,
                    "metadata": {},
                    "output_type": "execute_result"
                }
            ],
            "source": "import os, types\nimport pandas as pd\nfrom botocore.client import Config\nimport ibm_boto3\n\ndf_data_1 = pd.read_csv(body)\ndf_data_1.head()"
        }
    ],
    "metadata": {
        "kernelspec": {
            "display_name": "Python 3.9",
            "language": "python",
            "name": "python3"
        },
        "language_info": {
            "codemirror_mode": {
                "name": "ipython",
                "version": 3
            },
            "file_extension": ".py",
            "mimetype": "text/x-python",
            "name": "python",
            "nbconvert_exporter": "python",
            "pygments_lexer": "ipython3",
            "version": "3.9.7"
        }
    },
    "nbformat": 4,
    "nbformat_minor": 1
}